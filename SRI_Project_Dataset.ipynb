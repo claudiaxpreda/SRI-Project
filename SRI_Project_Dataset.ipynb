{
  "nbformat": 4,
  "nbformat_minor": 0,
  "metadata": {
    "colab": {
      "name": "SRI-Project-Dataset.ipynb",
      "provenance": [],
      "collapsed_sections": [],
      "authorship_tag": "ABX9TyOm0HrWDC5rQzT7Emy/uI6d",
      "include_colab_link": true
    },
    "kernelspec": {
      "name": "python3",
      "display_name": "Python 3"
    },
    "language_info": {
      "name": "python"
    }
  },
  "cells": [
    {
      "cell_type": "markdown",
      "metadata": {
        "id": "view-in-github",
        "colab_type": "text"
      },
      "source": [
        "<a href=\"https://colab.research.google.com/github/claudiaxpreda/SRI-Project/blob/main/SRI_Project_Dataset.ipynb\" target=\"_parent\"><img src=\"https://colab.research.google.com/assets/colab-badge.svg\" alt=\"Open In Colab\"/></a>"
      ]
    },
    {
      "cell_type": "markdown",
      "source": [
        "Steps:\n",
        "\n",
        "\n",
        "* Cleaned the iriginal dataset and kept the values we were interested in:\n",
        "    * URL\n",
        "    * Relvance \n",
        "    * Year \n",
        "    * Title \n",
        "    * Description \n",
        "\n",
        "* Converted the new crawled articles in the format of the original dataset\n",
        "* Merged additional labeled articles in the original dataset:\n",
        "    * Transformed the columns to match the original format \n",
        "    * Merged the articles \n",
        "\n",
        "* Extracted the site where the new articles were published to see the new statistics \n",
        "\n"
      ],
      "metadata": {
        "id": "24dvBRItF69o"
      }
    },
    {
      "cell_type": "code",
      "execution_count": null,
      "metadata": {
        "id": "MT9OIeF6RWS9"
      },
      "outputs": [],
      "source": [
        "import pandas as pd\n",
        "import json\n",
        "import re\n",
        "\n",
        "from urllib.parse import urlparse"
      ]
    },
    {
      "cell_type": "code",
      "source": [
        "PATH_LABELED_DATA = 'DataSetYggdrasil-1000Articlesv2.xlsx'\n",
        "PATH_NEW_DATA = '3090_articles_cronjob.json'\n",
        "\n",
        "LABELED_ORIGINAL = 'dataset_original_1000.cvs'\n",
        "\n",
        "def read_xlxs(path):\n",
        "  return pd.read_excel(path)\n",
        "\n",
        "def create_csv(path, dataframe):\n",
        "  dataframe.to_csv(path)\n",
        "\n",
        "def create_excel(path, dataframe):\n",
        "  dataframe.to_excel(path)\n"
      ],
      "metadata": {
        "id": "_Ka5H_SKR1YI"
      },
      "execution_count": null,
      "outputs": []
    },
    {
      "cell_type": "code",
      "source": [
        "# Extract necessary columns: URL, Title, Description, Year \n",
        "# Create a CVS file \n",
        "\n",
        "def transform_original_dataset(path):\n",
        "  columns_to_copy = ['URL','Year', 'Final verdict', 'Title', 'Entire Text']\n",
        "  labeled_data = read_xlxs(PATH_LABELED_DATA)\n",
        "  labeled_data_new = labeled_data[columns_to_copy].copy()\n",
        "\n",
        "  labeled_data_new.rename(columns={'Final verdict': 'Relevance', \n",
        "                                   'Entire Text' : 'Description'}, inplace=True)\n",
        "  return labeled_data_new\n",
        "\n",
        "def transform_new_dataset(path):\n",
        "  columns_to_copy = ['url', 'date_publish', 'relevance', 'title', 'maintext']\n",
        "  new_data_file = open(PATH_NEW_DATA)\n",
        "  new_data_json = json.load(new_data_file)\n",
        "  new_data_records = [item['Article'] for item in new_data_json]\n",
        "  new_data = pd.DataFrame.from_records(new_data_records)\n",
        "  new_data_clean = new_data[columns_to_copy].copy()\n",
        "  new_data_clean['date_publish'] = new_data['date_publish'].str[:4]\n",
        "\n",
        "  new_data_clean.rename(columns={'url': 'URL', 'date_publish' : 'Year', \n",
        "                                 'relevance' : 'Relevance', 'title' : 'Title', \n",
        "                                 'maintext' : 'Description'}, inplace=True)\n",
        "  \n",
        "  return new_data_clean\n",
        "\n",
        "\n",
        "def add_source(path):\n",
        "  new_data_clean = transform_new_dataset(path)\n",
        "  new_data_clean['Source'] =  new_data['URL'].apply(lambda item : urlparse(item).netloc.split('.')[0])\n",
        "  return new_data_clean\n",
        "\n",
        "def add_source_dataframe(data):\n",
        "  data['Source'] =  data['URL'].apply(lambda item : urlparse(item).netloc.split('.')[0])\n",
        "  return data\n",
        "\n",
        "def select_new_labeled_data(path):\n",
        "  new_data = transform_new_dataset(PATH_NEW_DATA)\n",
        "  new_data_labeled = new_data[~new_data['Relevance'].isnull()]\n",
        "  return new_data_labeled\n",
        "\n",
        "def select_new_unlabeled_data(path):\n",
        "  new_data = transform_new_dataset(PATH_NEW_DATA)\n",
        "  new_data_unlabeled = new_data[new_data['Relevance'].isnull()]\n",
        "  new_data_unlabeled = new_data_unlabeled.drop('Relevance', axis='columns')\n",
        "  return new_data_unlabeled\n",
        "\n",
        "def merge_labeled_data():\n",
        "  original_data = transform_original_dataset(PATH_LABELED_DATA)\n",
        "  new_data = select_new_labeled_data(PATH_NEW_DATA)\n",
        "  all_labeled_data = pd.concat([original_data, new_data], ignore_index=True)\n",
        "\n",
        "  if all_labeled_data['URL'].duplicated().sum() != 0: \n",
        "    all_labeled_data = all_labeled_data.drop_duplicates(subset=['URL'], keep='last')\n",
        "\n",
        "  return all_labeled_data\n",
        "\n",
        "def replace_source_labels(df):\n",
        "\n",
        "  df['Source'] = df['Source'].replace(['arstechnica','thehackernews','securityaffairs', 'threarpost'],\n",
        "                                      ['Ars Technica','The Hacker News', 'Security Affairs', 'Threatpost'])\n",
        "  return df \n",
        "\n",
        "\n",
        "# Write to files the data\n",
        "def original_data_csv(path):\n",
        "  labeled_data_new = transform_original_dataset(path)\n",
        "  create_csv(LABELED_ORIGINAL, labeled_data_new)\n",
        "  create_excel('dataset_original_1000.xlsx', labeled_data_new)\n",
        "\n",
        "\n",
        "def add_source_create_csv(path):\n",
        "  new_data_clean = add_source(path)\n",
        "  create_csv('new_all_data_source.csv', new_data_clean)\n",
        "  create_excel('new_all_data_source.xlsx', new_data_clean)\n",
        "\n",
        "\n",
        "def new_labeled_data_csv(path):\n",
        "  new_data_labeled = select_new_labeled_data(path)\n",
        "  create_csv('new_labeled_data.csv', new_data_labeled)\n",
        "  create_excel('new_labeled_data.xlsx', new_data_labeled)\n",
        "\n",
        "\n",
        "def new_unlabeled_data_csv(path):\n",
        "  new_data_unlabeled = select_new_unlabeled_data(path)\n",
        "  create_csv('new_unlabeled_data.csv', new_data_unlabeled)\n",
        "  create_excel('new_unlabeled_data.xlsx', new_data_unlabeled)\n",
        "\n",
        "\n",
        "def final_labeled_data():\n",
        "  final_labeled_data = merge_labeled_data()\n",
        "  create_csv('final_labeled_data.csv', final_labeled_data)\n",
        "  create_excel('final_labeled_data.xlsx', final_labeled_data)\n",
        "\n"
      ],
      "metadata": {
        "id": "SWhPRJJEUBP4"
      },
      "execution_count": null,
      "outputs": []
    },
    {
      "cell_type": "code",
      "source": [
        "final_labeled_data = pd.read_csv('new_labeled_data.csv')\n",
        "final_labeled_data.drop(final_labeled_data.columns[0], axis=1, inplace=True)"
      ],
      "metadata": {
        "id": "1bTRe06fCf-m"
      },
      "execution_count": null,
      "outputs": []
    },
    {
      "cell_type": "code",
      "source": [
        "# Number of articles grouped by year/source - labeled/unlabeled \n",
        "final_labeled_data = add_source_dataframe(final_labeled_data)\n",
        "final_labeled_data.head(10)"
      ],
      "metadata": {
        "id": "EzI3KPnMFXHG",
        "colab": {
          "base_uri": "https://localhost:8080/",
          "height": 536
        },
        "outputId": "1277a2ac-e294-4047-f7be-3500b6e3e813"
      },
      "execution_count": null,
      "outputs": [
        {
          "output_type": "execute_result",
          "data": {
            "text/html": [
              "<div>\n",
              "<style scoped>\n",
              "    .dataframe tbody tr th:only-of-type {\n",
              "        vertical-align: middle;\n",
              "    }\n",
              "\n",
              "    .dataframe tbody tr th {\n",
              "        vertical-align: top;\n",
              "    }\n",
              "\n",
              "    .dataframe thead th {\n",
              "        text-align: right;\n",
              "    }\n",
              "</style>\n",
              "<table border=\"1\" class=\"dataframe\">\n",
              "  <thead>\n",
              "    <tr style=\"text-align: right;\">\n",
              "      <th></th>\n",
              "      <th>URL</th>\n",
              "      <th>Year</th>\n",
              "      <th>Relevance</th>\n",
              "      <th>Title</th>\n",
              "      <th>Description</th>\n",
              "      <th>Source</th>\n",
              "    </tr>\n",
              "  </thead>\n",
              "  <tbody>\n",
              "    <tr>\n",
              "      <th>0</th>\n",
              "      <td>https://securityaffairs.co/wordpress/124066/ma...</td>\n",
              "      <td>2021</td>\n",
              "      <td>Irrelevant</td>\n",
              "      <td>The Toronto Transit Commission (TTC) hit by a ...</td>\n",
              "      <td>A ransomware attack hit the systems at the Tor...</td>\n",
              "      <td>securityaffairs</td>\n",
              "    </tr>\n",
              "    <tr>\n",
              "      <th>1</th>\n",
              "      <td>https://thehackernews.com/2021/11/alert-hacker...</td>\n",
              "      <td>2021</td>\n",
              "      <td>Relevant</td>\n",
              "      <td>Alert! Hackers Exploiting GitLab Unauthenticat...</td>\n",
              "      <td>A now-patched critical remote code execution (...</td>\n",
              "      <td>thehackernews</td>\n",
              "    </tr>\n",
              "    <tr>\n",
              "      <th>2</th>\n",
              "      <td>https://thehackernews.com/2021/11/google-to-pa...</td>\n",
              "      <td>2021</td>\n",
              "      <td>Relevant</td>\n",
              "      <td>Google to Pay Hackers $31,337 for Exploiting P...</td>\n",
              "      <td>Google on Monday announced that it will pay se...</td>\n",
              "      <td>thehackernews</td>\n",
              "    </tr>\n",
              "    <tr>\n",
              "      <th>3</th>\n",
              "      <td>https://securityaffairs.co/wordpress/124059/ma...</td>\n",
              "      <td>2021</td>\n",
              "      <td>Irrelevant</td>\n",
              "      <td>HelloKitty ransomware gang also targets victim...</td>\n",
              "      <td>The US FBI has published a flash alert warning...</td>\n",
              "      <td>securityaffairs</td>\n",
              "    </tr>\n",
              "    <tr>\n",
              "      <th>4</th>\n",
              "      <td>https://securityaffairs.co/wordpress/124047/cy...</td>\n",
              "      <td>2021</td>\n",
              "      <td>Irrelevant</td>\n",
              "      <td>Squid Game Cryptocurrency exit scam! Operators...</td>\n",
              "      <td>Operators behind the Squid Game cryptocurrency...</td>\n",
              "      <td>securityaffairs</td>\n",
              "    </tr>\n",
              "    <tr>\n",
              "      <th>5</th>\n",
              "      <td>https://securityaffairs.co/wordpress/124038/ha...</td>\n",
              "      <td>2021</td>\n",
              "      <td>Irrelevant</td>\n",
              "      <td>How to hack Wincor Cineo ATMs to bypass black-...</td>\n",
              "      <td>Researchers demonstrated how crooks could hack...</td>\n",
              "      <td>securityaffairs</td>\n",
              "    </tr>\n",
              "    <tr>\n",
              "      <th>6</th>\n",
              "      <td>https://securityaffairs.co/wordpress/124027/ma...</td>\n",
              "      <td>2021</td>\n",
              "      <td>Irrelevant</td>\n",
              "      <td>Pink Botnet infected over 1.6 Million DevicesS...</td>\n",
              "      <td>Cybersecurity researchers uncovered a huge bot...</td>\n",
              "      <td>securityaffairs</td>\n",
              "    </tr>\n",
              "    <tr>\n",
              "      <th>7</th>\n",
              "      <td>https://securityaffairs.co/wordpress/124017/ap...</td>\n",
              "      <td>2021</td>\n",
              "      <td>Irrelevant</td>\n",
              "      <td>Balikbayan Foxes group spoofs Philippine gov t...</td>\n",
              "      <td>Meet Balikbayan Foxes: a threat group imperson...</td>\n",
              "      <td>securityaffairs</td>\n",
              "    </tr>\n",
              "    <tr>\n",
              "      <th>8</th>\n",
              "      <td>https://securityaffairs.co/wordpress/124006/ha...</td>\n",
              "      <td>2021</td>\n",
              "      <td>Irrelevant</td>\n",
              "      <td>Microsoft warns of an increase in password spr...</td>\n",
              "      <td>The Microsoft Detection and Response Team (DAR...</td>\n",
              "      <td>securityaffairs</td>\n",
              "    </tr>\n",
              "    <tr>\n",
              "      <th>9</th>\n",
              "      <td>https://thehackernews.com/2021/11/critical-fla...</td>\n",
              "      <td>2021</td>\n",
              "      <td>Relevant</td>\n",
              "      <td>Critical Flaws Uncovered in Pentaho Business A...</td>\n",
              "      <td>Multiple vulnerabilities have been disclosed i...</td>\n",
              "      <td>thehackernews</td>\n",
              "    </tr>\n",
              "  </tbody>\n",
              "</table>\n",
              "</div>"
            ],
            "text/plain": [
              "                                                 URL  ...           Source\n",
              "0  https://securityaffairs.co/wordpress/124066/ma...  ...  securityaffairs\n",
              "1  https://thehackernews.com/2021/11/alert-hacker...  ...    thehackernews\n",
              "2  https://thehackernews.com/2021/11/google-to-pa...  ...    thehackernews\n",
              "3  https://securityaffairs.co/wordpress/124059/ma...  ...  securityaffairs\n",
              "4  https://securityaffairs.co/wordpress/124047/cy...  ...  securityaffairs\n",
              "5  https://securityaffairs.co/wordpress/124038/ha...  ...  securityaffairs\n",
              "6  https://securityaffairs.co/wordpress/124027/ma...  ...  securityaffairs\n",
              "7  https://securityaffairs.co/wordpress/124017/ap...  ...  securityaffairs\n",
              "8  https://securityaffairs.co/wordpress/124006/ha...  ...  securityaffairs\n",
              "9  https://thehackernews.com/2021/11/critical-fla...  ...    thehackernews\n",
              "\n",
              "[10 rows x 6 columns]"
            ]
          },
          "metadata": {},
          "execution_count": 18
        }
      ]
    },
    {
      "cell_type": "code",
      "source": [
        "import seaborn as sns\n",
        "final_labeled_data.groupby(['Source']).size().plot(kind = \"bar\")"
      ],
      "metadata": {
        "colab": {
          "base_uri": "https://localhost:8080/",
          "height": 362
        },
        "id": "e_Pyt9snQT1Z",
        "outputId": "a80de259-4ea5-4216-ad2c-345c68c5fe03"
      },
      "execution_count": null,
      "outputs": [
        {
          "output_type": "execute_result",
          "data": {
            "text/plain": [
              "<matplotlib.axes._subplots.AxesSubplot at 0x7fd7e274ab10>"
            ]
          },
          "metadata": {},
          "execution_count": 21
        },
        {
          "output_type": "display_data",
          "data": {
            "image/png": "[encoded data removed]",
            "text/plain": [
              "<Figure size 432x288 with 1 Axes>"
            ]
          },
          "metadata": {
            "needs_background": "light"
          }
        }
      ]
    },
    {
      "cell_type": "code",
      "source": [
        "final_labeled_data_names = replace_source_labels(final_labeled_data)\n",
        "final_labeled_data.groupby(['Source',]).size().plot(kind = \"bar\")"
      ],
      "metadata": {
        "colab": {
          "base_uri": "https://localhost:8080/",
          "height": 373
        },
        "id": "NOislCHORPHV",
        "outputId": "e0473fa9-8825-412e-c524-83e5c55b32fd"
      },
      "execution_count": null,
      "outputs": [
        {
          "output_type": "execute_result",
          "data": {
            "text/plain": [
              "<matplotlib.axes._subplots.AxesSubplot at 0x7fd7f095a2d0>"
            ]
          },
          "metadata": {},
          "execution_count": 26
        },
        {
          "output_type": "display_data",
          "data": {
            "image/png": "[encoded data removed]",
            "text/plain": [
              "<Figure size 432x288 with 1 Axes>"
            ]
          },
          "metadata": {
            "needs_background": "light"
          }
        }
      ]
    },
    {
      "cell_type": "code",
      "source": [
        "unlabeled_data = pd.read_csv('new_unlabeled_data.csv')\n",
        "unlabeled_data = add_source_dataframe(unlabeled_data)\n",
        "unlabeled_data = replace_source_labels(unlabeled_data)\n",
        "unlabeled_data.groupby(['Source']).size().plot(kind = \"bar\")"
      ],
      "metadata": {
        "colab": {
          "base_uri": "https://localhost:8080/",
          "height": 373
        },
        "id": "t8tH0j5xTo8G",
        "outputId": "c0e2cf9c-1463-4715-df5b-62f187a5c5ac"
      },
      "execution_count": null,
      "outputs": [
        {
          "output_type": "execute_result",
          "data": {
            "text/plain": [
              "<matplotlib.axes._subplots.AxesSubplot at 0x7fd7e17f4d10>"
            ]
          },
          "metadata": {},
          "execution_count": 27
        },
        {
          "output_type": "display_data",
          "data": {
            "image/png": "[encoded data removed]",
            "text/plain": [
              "<Figure size 432x288 with 1 Axes>"
            ]
          },
          "metadata": {
            "needs_background": "light"
          }
        }
      ]
    },
    {
      "cell_type": "code",
      "source": [
        "print(\"Labeled data statistics - Source\")\n",
        "print(final_labeled_data_names.groupby(['Source']).size())\n",
        "print(\"Labeled data statistics - Year\")\n",
        "print(final_labeled_data_names.groupby(['Year']).size())\n",
        "print(\"Labeled data statistics - Source/Year\")\n",
        "print(final_labeled_data_names.groupby(['Source','Year']).size())"
      ],
      "metadata": {
        "colab": {
          "base_uri": "https://localhost:8080/"
        },
        "id": "rcfAbV7nUDcY",
        "outputId": "bf3478f5-b593-43dc-f789-2023ad6df155"
      },
      "execution_count": null,
      "outputs": [
        {
          "output_type": "stream",
          "name": "stdout",
          "text": [
            "Labeled data statistics - Source\n",
            "Source\n",
            "Ars Technica         6\n",
            "Security Affairs    48\n",
            "The Hacker News     61\n",
            "threatpost          42\n",
            "dtype: int64\n",
            "Labeled data statistics - Year\n",
            "Year\n",
            "2018      1\n",
            "2019      6\n",
            "2020      2\n",
            "2021    148\n",
            "dtype: int64\n",
            "Labeled data statistics - Source/Year\n",
            "Source            Year\n",
            "Ars Technica      2021     6\n",
            "Security Affairs  2021    48\n",
            "The Hacker News   2021    61\n",
            "threatpost        2018     1\n",
            "                  2019     6\n",
            "                  2020     2\n",
            "                  2021    33\n",
            "dtype: int64\n"
          ]
        }
      ]
    },
    {
      "cell_type": "code",
      "source": [
        "print(\"Unlabeled data statistics - Source\")\n",
        "print(unlabeled_data.groupby(['Source']).size())\n",
        "print(\"Unlabeled data statistics - Year\")\n",
        "print(unlabeled_data.groupby(['Year']).size())\n",
        "print(\"Unlabeled data statistics - Source/Year\")\n",
        "print(unlabeled_data.groupby(['Source','Year']).size())"
      ],
      "metadata": {
        "colab": {
          "base_uri": "https://localhost:8080/"
        },
        "id": "Zm5_fdtjVIFv",
        "outputId": "092798f0-faa3-4f08-801b-6f73215ceb4d"
      },
      "execution_count": null,
      "outputs": [
        {
          "output_type": "stream",
          "name": "stdout",
          "text": [
            "Unlabeled data statistics - Source\n",
            "Source\n",
            "Ars Technica         404\n",
            "Security Affairs    1427\n",
            "The Hacker News      790\n",
            "feedproxy              8\n",
            "threatpost          1123\n",
            "dtype: int64\n",
            "Unlabeled data statistics - Year\n",
            "Year\n",
            "2013       3\n",
            "2014       1\n",
            "2015       2\n",
            "2016      10\n",
            "2017      10\n",
            "2018      56\n",
            "2019      96\n",
            "2020     534\n",
            "2021    3040\n",
            "dtype: int64\n",
            "Unlabeled data statistics - Source/Year\n",
            "Source            Year\n",
            "Ars Technica      2018       1\n",
            "                  2020      35\n",
            "                  2021     368\n",
            "Security Affairs  2020     166\n",
            "                  2021    1261\n",
            "The Hacker News   2020      44\n",
            "                  2021     746\n",
            "feedproxy         2021       8\n",
            "threatpost        2013       3\n",
            "                  2014       1\n",
            "                  2015       2\n",
            "                  2016      10\n",
            "                  2017      10\n",
            "                  2018      55\n",
            "                  2019      96\n",
            "                  2020     289\n",
            "                  2021     657\n",
            "dtype: int64\n"
          ]
        }
      ]
    },
    {
      "cell_type": "code",
      "source": [
        "final_labeled_data_names['Word count'] = final_labeled_data_names['Description'].apply(lambda item : len(item.split()))\n",
        "print('Minimum words in labeled data: {}'.format(final_labeled_data_names['Word count'].min()))\n",
        "print('Maximum words in labeled data: {}'.format(final_labeled_data_names['Word count'].max()))\n",
        "print('Average words in labeled data: {}'.format(final_labeled_data_names['Word count'].mean()))"
      ],
      "metadata": {
        "colab": {
          "base_uri": "https://localhost:8080/"
        },
        "id": "tO3pDvnZV04r",
        "outputId": "671e14b3-0e9e-41e9-c8c6-ed3e00e37a97"
      },
      "execution_count": null,
      "outputs": [
        {
          "output_type": "stream",
          "name": "stdout",
          "text": [
            "Minimum words in labeled data: 206\n",
            "Maximum words in labeled data: 2045\n",
            "Average words in labeled data: 634.1974522292994\n"
          ]
        }
      ]
    },
    {
      "cell_type": "code",
      "source": [
        "unlabeled_data['Word count'] = unlabeled_data['Description'].apply(lambda item : len(item.split()))\n",
        "print('Minimum words in unlabeled data: {}'.format(unlabeled_data['Word count'].min()))\n",
        "print('Maximum words in unlabeled data: {}'.format(unlabeled_data['Word count'].max()))\n",
        "print('Average words in unlabeled data: {}'.format(unlabeled_data['Word count'].mean()))"
      ],
      "metadata": {
        "id": "NRKoVMm_We27",
        "colab": {
          "base_uri": "https://localhost:8080/"
        },
        "outputId": "4f537ba0-838a-4080-e033-29c277dd7d54"
      },
      "execution_count": null,
      "outputs": [
        {
          "output_type": "stream",
          "name": "stdout",
          "text": [
            "Minimum words in unlabeled data: 46\n",
            "Maximum words in unlabeled data: 11164\n",
            "Average words in unlabeled data: 668.5810234541577\n"
          ]
        }
      ]
    },
    {
      "cell_type": "code",
      "source": [
        ""
      ],
      "metadata": {
        "id": "YlK0fJ02bU6l"
      },
      "execution_count": null,
      "outputs": []
    }
  ]
}